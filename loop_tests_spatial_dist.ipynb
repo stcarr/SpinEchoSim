{
 "cells": [
  {
   "cell_type": "markdown",
   "metadata": {},
   "source": [
    "# Packages & Includes"
   ]
  },
  {
   "cell_type": "code",
   "execution_count": 1,
   "metadata": {},
   "outputs": [],
   "source": [
    "using Plots\n",
    "using StatsBase\n",
    "using LinearAlgebra\n",
    "using Statistics\n",
    "using JLD2\n",
    "using Dates\n",
    "using LsqFit\n",
    "using StaticArrays\n",
    "\n",
    "# data structure module (needs to be module to avoid overwriting local variables in REPL scope)\n",
    "include(\"SpinSimParams.jl\")\n",
    "using .SpinSimParams\n",
    "\n",
    "# function libraries\n",
    "include(\"spin_sims.jl\");"
   ]
  },
  {
   "cell_type": "markdown",
   "metadata": {},
   "source": [
    "# Basic Parameters"
   ]
  },
  {
   "cell_type": "code",
   "execution_count": 2,
   "metadata": {},
   "outputs": [],
   "source": [
    "# gamma\n",
    "γ = 2*π*1e6;\n",
    "\n",
    "# time variables\n",
    "τ = 100e-6;\n",
    "dt = 2;\n",
    "\n",
    "# interaction\n",
    "α = 0.13;\n",
    "ω = 0;\n",
    "\n",
    "# spin ensemble\n",
    "ν0 = 10;\n",
    "bw = 0.5;\n",
    "nfreq = 400;\n",
    "\n",
    "# initial conditions\n",
    "dim = 2;\n",
    "ψ_0 = @SArray [1 0];\n",
    "ρ_temp = [ψ_0[i]*ψ_0[j] for i = 1:dim, j = 1:dim];\n",
    "ρ0 = @SMatrix [ρ_temp[1,1] ρ_temp[1,2]; ρ_temp[2,1] ρ_temp[2,2]];"
   ]
  },
  {
   "cell_type": "markdown",
   "metadata": {},
   "source": [
    "# Lattice/Spatial Dist. Parameters"
   ]
  },
  {
   "cell_type": "code",
   "execution_count": 8,
   "metadata": {},
   "outputs": [],
   "source": [
    "# lattice parameters\n",
    "hlk = [1; 1];\n",
    "θ = [π/2];\n",
    "\n",
    "# wavevectors\n",
    "ky = collect(exp10.(LinRange(-3, 0, 20)))\n",
    "k = ();\n",
    "for i = 1:size(ky,1)\n",
    "    k = (k..., [0; ky[i]]);\n",
    "end\n",
    "\n",
    "# make the parameter file\n",
    "params = make_params(γ, τ, dt, α, ω, ν0, bw, nfreq, ρ0);\n",
    "\n",
    "# load lattice parameters\n",
    "params[\"hlk\"] = hlk;\n",
    "params[\"θ\"] = θ;\n",
    "params[\"k\"] = k;\n",
    "\n",
    "# create lattice\n",
    "r, idx_r = make_lattice(params);\n",
    "\n",
    "# each cluster has a single position\n",
    "I = ();\n",
    "R = ();\n",
    "for i = 1:400\n",
    "    temp = sample(1:params[\"nfreq\"], params[\"nfreq\"], replace = false);\n",
    "    I = (I..., temp);\n",
    "    R = (R..., r[temp,:]);\n",
    "end\n",
    "\n",
    "# load the parameters\n",
    "params[\"idx_r\"] = I;\n",
    "params[\"r\"] = R;\n",
    "\n",
    "# set the variables to loop over\n",
    "vars = [\"k\", \"r\"];\n",
    "params[\"vars\"] = vars;"
   ]
  },
  {
   "cell_type": "markdown",
   "metadata": {},
   "source": [
    "# Run the Simulation (with spatial distribution)"
   ]
  },
  {
   "cell_type": "code",
   "execution_count": 16,
   "metadata": {},
   "outputs": [
    {
     "name": "stderr",
     "output_type": "stream",
     "text": [
      "┌ Warning: saved type NTuple{400,Array{Float64,2}} is missing field 145 in workspace type; reconstructing\n",
      "└ @ JLD2 C:\\Users\\charl\\.julia\\packages\\JLD2\\2W9VX\\src\\data.jl:402\n"
     ]
    },
    {
     "name": "stdout",
     "output_type": "stream",
     "text": [
      "JLD2.ReconstructedTypes.var\"##NTuple{400,Array{Float64,2}}#263\"\n"
     ]
    }
   ],
   "source": [
    "I, d = make_idx(vars, params)\n",
    "M_list = Array{Any}(undef, d)\n",
    "\n",
    "@time begin\n",
    "    for i in I\n",
    "\n",
    "        # generate temporary parameters\n",
    "        tparams = make_temp_params(params, vars, i)\n",
    "\n",
    "        # simulate\n",
    "        M_list[i] = spin_echo_sim(tparams)\n",
    "\n",
    "    end\n",
    "end\n",
    "\n",
    "@save \"004_M_list.jld2\" M_list\n",
    "@save \"004_parameters.jld2\" params"
   ]
  }
 ],
 "metadata": {
  "kernelspec": {
   "display_name": "Julia 1.4.2",
   "language": "julia",
   "name": "julia-1.4"
  },
  "language_info": {
   "file_extension": ".jl",
   "mimetype": "application/julia",
   "name": "julia",
   "version": "1.4.2"
  }
 },
 "nbformat": 4,
 "nbformat_minor": 4
}
