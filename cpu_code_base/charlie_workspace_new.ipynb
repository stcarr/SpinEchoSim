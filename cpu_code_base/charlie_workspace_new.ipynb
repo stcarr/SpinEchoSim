{
 "cells": [
  {
   "cell_type": "code",
   "execution_count": 1,
   "metadata": {},
   "outputs": [],
   "source": [
    "using Plots, StatsBase, LinearAlgebra, Statistics, JLD2, Dates, StaticArrays, JSON\n",
    "\n",
    "# data structure module\n",
    "# include(\"spin_sim_functions_limited.jl\")\n",
    "# using .spin_sim_functions_limited\n",
    "\n",
    "# function libraries\n",
    "# include(\"spin_sims_new_limited.jl\");\n",
    "\n",
    "include(\"liouville_tools.jl\")\n",
    "using .LiouvilleTools"
   ]
  },
  {
   "cell_type": "markdown",
   "metadata": {},
   "source": [
    "# SET VARIABLES"
   ]
  },
  {
   "cell_type": "code",
   "execution_count": 9,
   "metadata": {},
   "outputs": [],
   "source": [
    "# make the parameter file\n",
    "params = make_params()\n",
    "\n",
    "# interaction\n",
    "params[\"α\"] = 0.1;\n",
    "\n",
    "# number of frequencies\n",
    "params[\"n\"] = (50, 50)\n",
    "\n",
    "# make a lattice, pbc = periodic bc or not\n",
    "params[\"hlk\"] = [1; 1]\n",
    "params[\"θ\"] = [π/2]\n",
    "params[\"r\"], params[\"spin_idx\"] = make_lattice(params[\"hlk\"], params[\"θ\"], params[\"n\"])\n",
    "\n",
    "# make the stencil\n",
    "params[\"ξ\"] = 10\n",
    "params[\"decay_power\"] = 4\n",
    "params[\"M_stencil\"] = make_stencil(params[\"r\"], params[\"ξ\"], params[\"decay_power\"])\n",
    "\n",
    "# dissipation parameters\n",
    "params[\"Γ\"] = (0, 0, 10^-3);\n",
    "\n",
    "# load the pulsing parameters\n",
    "params[\"flip_angle\"] = π/2\n",
    "params[\"phases\"] = (0, π/2)\n",
    "\n",
    "# cpmg parameters\n",
    "params[\"echo_time\"] = 50e-6; # collect(LinRange(50e-6, 300e-6, 20))\n",
    "params[\"num_echoes\"] = convert.(Int64, round.(500e-6./params[\"echo_time\"]));"
   ]
  },
  {
   "cell_type": "markdown",
   "metadata": {},
   "source": [
    "# ASSIGN VARIABLES TO PARAMETER FILE"
   ]
  },
  {
   "cell_type": "code",
   "execution_count": 10,
   "metadata": {},
   "outputs": [],
   "source": [
    "# set variables\n",
    "vars = [];\n",
    "params[\"vars\"] = vars;"
   ]
  },
  {
   "cell_type": "code",
   "execution_count": 13,
   "metadata": {},
   "outputs": [
    {
     "name": "stdout",
     "output_type": "stream",
     "text": [
      "145.167970 seconds (170.81 M allocations: 246.569 GiB, 17.65% gc time)\n"
     ]
    }
   ],
   "source": [
    "idx_list, d = make_idx(vars, params)\n",
    "M_list = Array{Any}(undef, d)\n",
    "\n",
    "for i in idx_list\n",
    "\n",
    "    # generate temporary parameters\n",
    "    tparams = make_temp_params(params, vars, i)\n",
    "\n",
    "    # simulate\n",
    "    # @time M_list[1] = spin_echo_sim_liouville(tparams);\n",
    "    @time M_list[1], echoes = spin_echo_sim_liouville_cpmg(tparams);\n",
    "\n",
    "end\n",
    "\n",
    "#=\n",
    "@save \"cpmg_vary_α_0_vary_te_M_list.jld2\" M_list\n",
    "@save \"cpmg_vary_α_0_vary_te_echoes.jld2\" echoes\n",
    "fname = \"cpmg_vary_α_0_vary_te_params.json\"\n",
    "open(fname,\"w\") do f\n",
    "    JSON.print(f, params)\n",
    "end\n",
    "=#"
   ]
  }
 ],
 "metadata": {
  "kernelspec": {
   "display_name": "Julia 1.4.2",
   "language": "julia",
   "name": "julia-1.4"
  },
  "language_info": {
   "file_extension": ".jl",
   "mimetype": "application/julia",
   "name": "julia",
   "version": "1.4.2"
  }
 },
 "nbformat": 4,
 "nbformat_minor": 4
}
