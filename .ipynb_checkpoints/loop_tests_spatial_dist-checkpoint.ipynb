{
 "cells": [
  {
   "cell_type": "markdown",
   "metadata": {},
   "source": [
    "# Packages & Includes"
   ]
  },
  {
   "cell_type": "code",
   "execution_count": 1,
   "metadata": {},
   "outputs": [],
   "source": [
    "using Plots\n",
    "using StatsBase\n",
    "using LinearAlgebra\n",
    "using Statistics\n",
    "using JLD2\n",
    "using Dates\n",
    "using LsqFit\n",
    "using StaticArrays\n",
    "\n",
    "# data structure module (needs to be module to avoid overwriting local variables in REPL scope)\n",
    "include(\"SpinSimParams.jl\")\n",
    "using .SpinSimParams\n",
    "\n",
    "# function libraries\n",
    "include(\"spin_sims.jl\");"
   ]
  },
  {
   "cell_type": "markdown",
   "metadata": {},
   "source": [
    "# Basic Parameters"
   ]
  },
  {
   "cell_type": "code",
   "execution_count": 2,
   "metadata": {},
   "outputs": [],
   "source": [
    "# interaction\n",
    "α = 0.13;\n",
    "ω = 0;\n",
    "\n",
    "# spin ensemble\n",
    "nfreq = 10000;\n",
    "\n",
    "# I gave γ, τ, dt, ψ_0, bw, and ν0 default values since we almost never change them at this point\n",
    "\n",
    "# lattice parameters\n",
    "hlk = [1; 1];\n",
    "θ = [π/2];\n",
    "\n",
    "# wavevectors\n",
    "ky = collect(exp10.(LinRange(-1, 1, 10)))\n",
    "k = ();\n",
    "for i = 1:size(ky,1)\n",
    "    k = (k..., [0; ky[i]]);\n",
    "end\n",
    "\n",
    "# make the parameter file\n",
    "params = make_params(α, ω, nfreq);\n",
    "\n",
    "# load lattice parameters\n",
    "params[\"hlk\"] = hlk;\n",
    "params[\"θ\"] = θ;\n",
    "params[\"k\"] = k;\n",
    "\n",
    "# create lattice\n",
    "@time r, idx_r = make_lattice(params);\n",
    "\n",
    "# set the variables to loop over\n",
    "vars = [\"k\"];\n",
    "params[\"vars\"] = vars;\n",
    "params[\"r\"] = r;"
   ]
  },
  {
   "cell_type": "markdown",
   "metadata": {},
   "source": [
    "# Run the Simulation (with spatial distribution)"
   ]
  },
  {
   "cell_type": "code",
   "execution_count": 4,
   "metadata": {},
   "outputs": [
    {
     "name": "stdout",
     "output_type": "stream",
     "text": [
      " 20.558463 seconds (369.64 M allocations: 20.919 GiB, 21.81% gc time)\n",
      " 14.976529 seconds (366.65 M allocations: 20.772 GiB, 18.84% gc time)\n",
      " 13.323031 seconds (366.65 M allocations: 20.772 GiB, 15.60% gc time)\n",
      " 12.635837 seconds (366.65 M allocations: 20.772 GiB, 15.72% gc time)\n",
      " 13.007604 seconds (366.65 M allocations: 20.772 GiB, 16.41% gc time)\n",
      " 13.911760 seconds (366.65 M allocations: 20.772 GiB, 18.22% gc time)\n",
      " 14.560105 seconds (366.65 M allocations: 20.772 GiB, 18.09% gc time)\n",
      " 13.895571 seconds (366.65 M allocations: 20.772 GiB, 18.18% gc time)\n",
      " 13.805082 seconds (366.65 M allocations: 20.772 GiB, 18.23% gc time)\n",
      " 13.593003 seconds (366.65 M allocations: 20.772 GiB, 17.57% gc time)\n"
     ]
    }
   ],
   "source": [
    "I, d = make_idx(vars, params)\n",
    "M_list = Array{Any}(undef, d)\n",
    "\n",
    "for i in I\n",
    "\n",
    "    # generate temporary parameters\n",
    "    tparams = make_temp_params(params, vars, i)\n",
    "\n",
    "    # simulate\n",
    "    @time M_list[i] = spin_echo_sim(tparams)\n",
    "\n",
    "end\n",
    "\n",
    "# @save \"001_M_list.jld2\" M_list\n",
    "# @save \"001_parameters.jld2\" params"
   ]
  }
 ],
 "metadata": {
  "kernelspec": {
   "display_name": "Julia 1.4.2",
   "language": "julia",
   "name": "julia-1.4"
  },
  "language_info": {
   "file_extension": ".jl",
   "mimetype": "application/julia",
   "name": "julia",
   "version": "1.4.2"
  }
 },
 "nbformat": 4,
 "nbformat_minor": 4
}
