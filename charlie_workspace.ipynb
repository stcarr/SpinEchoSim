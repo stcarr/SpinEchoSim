{
 "cells": [
  {
   "cell_type": "code",
   "execution_count": 1,
   "metadata": {},
   "outputs": [],
   "source": [
    "using Plots\n",
    "using StatsBase\n",
    "using LinearAlgebra\n",
    "using Statistics\n",
    "using JLD2\n",
    "using Dates\n",
    "using LsqFit\n",
    "using StaticArrays\n",
    "using JSON\n",
    "\n",
    "# data structure module (needs to be module to avoid overwriting local variables in REPL scope)\n",
    "include(\"SpinSimParams.jl\")\n",
    "using .SpinSimParams\n",
    "\n",
    "# function libraries\n",
    "include(\"spin_sims.jl\");"
   ]
  },
  {
   "cell_type": "markdown",
   "metadata": {},
   "source": [
    "# Set Independent Variables"
   ]
  },
  {
   "cell_type": "code",
   "execution_count": 5,
   "metadata": {},
   "outputs": [],
   "source": [
    "# interaction\n",
    "α = collect(LinRange(0.1, 0.2, 10));\n",
    "ω = 0;\n",
    "\n",
    "# flip operators\n",
    "Ix = @SMatrix [0 1/2; 1/2 0];\n",
    "f = LinRange(0, 1, 10);\n",
    "UL90 = ();\n",
    "UR90 = ();\n",
    "for idx = 1:10\n",
    "    UL90 = (UL90..., exp(-1im*pi*f[idx]*Ix/2));\n",
    "    UR90 = (UR90..., exp(1im*pi*f[idx]*Ix/2));\n",
    "end\n",
    "\n",
    "# number of frequencies\n",
    "nx = 20;\n",
    "ny = 20;\n",
    "nz = 1;\n",
    "n = (nx, ny, nz);\n",
    "nfreq = prod(n);\n",
    "\n",
    "# make the parameter file\n",
    "params = make_params(α, ω, n);\n",
    "    \n",
    "params[\"UL90\"] = UL90;\n",
    "params[\"UR90\"] = UR90;\n",
    "params[\"dt\"] = 1;"
   ]
  },
  {
   "cell_type": "markdown",
   "metadata": {},
   "source": [
    "# Set Options\n",
    "1. \"integrated_sampling\": if true, use integrated sampling; if false, use discrete sampling (default = false).\n",
    "2. \"tiles\": if true, use tile approach to generating lattice (default = false).  Must provide **params[\"r_tiles\"] and params[\"tile_norm\"]**.  \"r_tiles\" specifies the positions of the tiles, and \"tile_norm\" is a rescaling parameter to make sure the tiles do not overlap.\n",
    "3. \"local_M_on\": if true, implement correlation length (default = false).  Must provide **params[\"M_stencil\"]**.\n",
    "4. $\\theta$ is defined as follows: $\\theta$[1] is the angle between hlk[1] and hlk[2], $\\theta$[2] is the angle between hlk[1] and the projection of hlk[3] into the plan of hlk[1] and hlk[2], and $\\theta$[3] is the angle between hlk[3] and the axis perpendicular to the plan created by hlk[1] and hlk[2] (ie if hlk[1] and hlk[2] are considered in the x-y plane, $\\theta$[3] is the angle from the z axis to hlk[3])"
   ]
  },
  {
   "cell_type": "code",
   "execution_count": 6,
   "metadata": {},
   "outputs": [],
   "source": [
    "# set the variables to loop over\n",
    "params[\"integrated_sampling\"] = true;\n",
    "vars = [\"α\", (\"UL90\", \"UR90\")];"
   ]
  },
  {
   "cell_type": "code",
   "execution_count": null,
   "metadata": {},
   "outputs": [],
   "source": [
    "I, d = make_idx(vars, params)\n",
    "M_list = Array{Any}(undef, d)\n",
    "\n",
    "for i in I\n",
    "    \n",
    "    # generate temporary parameters\n",
    "    tparams = make_temp_params(params, vars, i)\n",
    "\n",
    "    # simulate\n",
    "    @time M_list[i] = spin_echo_sim(tparams)\n",
    "    \n",
    "end\n",
    "\n",
    "@save \"002_M_list.jld2\" M_list;\n",
    "\n",
    "using JSON\n",
    "fname = \"002_parameters.json\"\n",
    "open(fname,\"w\") do f\n",
    "    JSON.print(f, params)\n",
    "end"
   ]
  },
  {
   "cell_type": "code",
   "execution_count": null,
   "metadata": {},
   "outputs": [],
   "source": []
  }
 ],
 "metadata": {
  "kernelspec": {
   "display_name": "Julia 1.4.2",
   "language": "julia",
   "name": "julia-1.4"
  },
  "language_info": {
   "file_extension": ".jl",
   "mimetype": "application/julia",
   "name": "julia",
   "version": "1.4.2"
  }
 },
 "nbformat": 4,
 "nbformat_minor": 2
}
